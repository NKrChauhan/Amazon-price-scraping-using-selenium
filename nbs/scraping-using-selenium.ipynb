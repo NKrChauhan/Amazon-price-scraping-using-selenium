{
 "cells": [
  {
   "cell_type": "code",
   "execution_count": 1,
   "metadata": {},
   "outputs": [],
   "source": [
    "import os\n",
    "import re\n",
    "import pathlib\n",
    "import requests\n",
    "import time\n",
    "import datetime\n",
    "import pandas as pd\n",
    "from requests_html import HTML\n",
    "from pathlib import Path\n",
    "from selenium import webdriver\n",
    "from selenium.webdriver.firefox.options import Options #open browser driver without the actual opening of browser"
   ]
  },
  {
   "cell_type": "code",
   "execution_count": 2,
   "metadata": {},
   "outputs": [],
   "source": [
    "#using pathlib instead of os library\n",
    "BASE_DIR = Path.cwd()\n",
    "DATA_DIR = BASE_DIR / \"data\" # os.path.join(BASE_DIR, 'data')\n",
    "if not DATA_DIR.exists(): # os.path.exists(DATA_DIR)\n",
    "    DATA_DIR.mkdir(exist_ok=True) # os.makedirs(DATA_DIR, exist_ok=True)\n",
    "    \n",
    "product_category_output = DATA_DIR / \"category-products.csv\"\n",
    "product_output = DATA_DIR / \"products.csv\""
   ]
  },
  {
   "cell_type": "code",
   "execution_count": 3,
   "metadata": {},
   "outputs": [],
   "source": [
    "options = Options()\n",
    "options.add_argument(\"--headless\")\n",
    "driver = webdriver.Firefox(options=options)"
   ]
  },
  {
   "cell_type": "code",
   "execution_count": 4,
   "metadata": {},
   "outputs": [],
   "source": [
    "# referance  https://www.amazon.in/Kaspersky-Security-Latest-Version-Delivery/dp/B073VKKNN9\n",
    "\n",
    "categories = [\n",
    "    {\"category\": \"Home & kitchen\", \"url\": \"https://www.amazon.in/gp/bestsellers/kitchen/\"},\n",
    "    {\"category\": \"cars and motorbike\", \"url\": \"https://www.amazon.in/gp/bestsellers/automotive/\"},\n",
    "    {\"category\": \"software\", \"url\": \"https://www.amazon.in/gp/bestsellers/software/\"}\n",
    "]\n",
    "regex = [\n",
    "    r\"https://www.amazon.in/(?P<data>[\\w-]+)/dp/(?P<id>[\\w-]+)/\" #this is quite used at the time \n",
    "]\n",
    "# other_amazon_url_naming_scheme_referances = [ \n",
    "#     r\"https://www.amazon.in/gp/product/(?P<id>[\\w-]+)/\",\n",
    "#     r\"https://www.amazon.in/dp/(?P<id>[\\w-]+)/\", ]"
   ]
  },
  {
   "cell_type": "code",
   "execution_count": 5,
   "metadata": {},
   "outputs": [],
   "source": [
    "# from this \"https://www.amazon.in/Kaspersky-Security-Latest-Version-Delivery/dp/B073VKKNN9\" -> id=B073VKKNN9\n",
    "def extract_id_from_url(url,regex=regex):\n",
    "    product_id = None\n",
    "    for regex_str in regex:\n",
    "        regex = re.compile(regex_str)\n",
    "        match = regex.match(url)\n",
    "        if match != None:\n",
    "            try:\n",
    "                product_id = match['id']\n",
    "            except:\n",
    "                pass\n",
    "    return product_id\n"
   ]
  },
  {
   "cell_type": "code",
   "execution_count": 6,
   "metadata": {},
   "outputs": [],
   "source": [
    "# extracting the links to the products not other links like review are filtered out using product_id on each page\n",
    "def clean_links(page_links=[], category=None):\n",
    "    final_page_links = []\n",
    "    for url in page_links:\n",
    "        product_id = extract_id_from_url(url)\n",
    "        if product_id != None:\n",
    "            final_page_links.append({\"url\": url, \"product_id\": product_id, \"category\": category['category']})\n",
    "    return final_page_links\n",
    "\n",
    "# parse each link in category section and return the all product links\n",
    "def scrape_and_generate(categories=None,save=False):\n",
    "    all_links = []\n",
    "    for category in categories:\n",
    "        time.sleep(3.0)\n",
    "        url = category.get(\"url\") #from dict\n",
    "        driver.get(url)\n",
    "        body_element = driver.find_element_by_css_selector(\"body\")\n",
    "        html = body_element.get_attribute(\"innerHTML\")\n",
    "        html_obj = HTML(html=html)\n",
    "        page_links = [f\"https://www.amazon.in{x}\" for x in html_obj.links if x.startswith(\"/\")] #convention followed in amazon site\n",
    "        cleaned_links = clean_links(page_links=page_links, category=category)\n",
    "        all_links += cleaned_links\n",
    "        if save==True:\n",
    "            category_df = pd.DataFrame(all_links)\n",
    "            category_df.to_csv(product_category_output, index=False)\n",
    "    return all_links"
   ]
  },
  {
   "cell_type": "code",
   "execution_count": 7,
   "metadata": {},
   "outputs": [],
   "source": [
    "# scrape the actual product pages that are short listed from so many links \n",
    "def scrape_product(url):\n",
    "    title = \"#productTitle\"\n",
    "    price = \"#priceblock_ourprice\"\n",
    "#     message = \"#upsell-message\"\n",
    "    driver.get(url)\n",
    "    time.sleep(5.0)\n",
    "    body_element = driver.find_element_by_css_selector(\"body\")\n",
    "    html = body_element.get_attribute(\"innerHTML\")\n",
    "    html_obj = HTML(html=html)\n",
    "    product_title = html_obj.find(title, first=True).text\n",
    "    product_price = html_obj.find(price, first=True).text\n",
    "#     product_message = html_obj.find(message, first=True).text\n",
    "    return product_title, product_price #, product_message\n"
   ]
  },
  {
   "cell_type": "code",
   "execution_count": 8,
   "metadata": {},
   "outputs": [],
   "source": [
    "#apply to each row of dataframe\n",
    "def df_row_scrape(row):\n",
    "    link = row['url']\n",
    "    done = 0\n",
    "    try:\n",
    "        done = row['scraping_done']\n",
    "    except:\n",
    "        pass\n",
    "    if done == 1 or done == \"1\":\n",
    "        print(\"skipped\")\n",
    "        return row\n",
    "    product_id = row['product_id']\n",
    "    title, price = (None, None)\n",
    "    try:\n",
    "        title, price = scrape_product(link)\n",
    "    except:\n",
    "        pass\n",
    "    row['title'] = title\n",
    "    row['price'] = price\n",
    "#     row['message'] = message\n",
    "    row['scraping_done'] = 1\n",
    "    row['timestamp'] = datetime.datetime.now().timestamp()\n",
    "    print(link, title, price, datetime.datetime.now().timestamp())\n",
    "    return row"
   ]
  },
  {
   "cell_type": "markdown",
   "metadata": {},
   "source": [
    "## Now lets run"
   ]
  },
  {
   "cell_type": "code",
   "execution_count": 9,
   "metadata": {},
   "outputs": [],
   "source": [
    "d = scrape_and_generate(categories,save=True)"
   ]
  },
  {
   "cell_type": "code",
   "execution_count": 10,
   "metadata": {},
   "outputs": [
    {
     "data": {
      "text/html": [
       "<div>\n",
       "<style scoped>\n",
       "    .dataframe tbody tr th:only-of-type {\n",
       "        vertical-align: middle;\n",
       "    }\n",
       "\n",
       "    .dataframe tbody tr th {\n",
       "        vertical-align: top;\n",
       "    }\n",
       "\n",
       "    .dataframe thead th {\n",
       "        text-align: right;\n",
       "    }\n",
       "</style>\n",
       "<table border=\"1\" class=\"dataframe\">\n",
       "  <thead>\n",
       "    <tr style=\"text-align: right;\">\n",
       "      <th></th>\n",
       "      <th>url</th>\n",
       "      <th>product_id</th>\n",
       "      <th>category</th>\n",
       "    </tr>\n",
       "  </thead>\n",
       "  <tbody>\n",
       "    <tr>\n",
       "      <th>0</th>\n",
       "      <td>https://www.amazon.in/Crystal-Stove-Lighter-St...</td>\n",
       "      <td>B00INQOQ3U</td>\n",
       "      <td>Home &amp; kitchen</td>\n",
       "    </tr>\n",
       "    <tr>\n",
       "      <th>1</th>\n",
       "      <td>https://www.amazon.in/NaturePac-Garbage-Biodeg...</td>\n",
       "      <td>B07JFYBYK2</td>\n",
       "      <td>Home &amp; kitchen</td>\n",
       "    </tr>\n",
       "    <tr>\n",
       "      <th>2</th>\n",
       "      <td>https://www.amazon.in/Multipurpose-Portable-El...</td>\n",
       "      <td>B07VQGVL68</td>\n",
       "      <td>Home &amp; kitchen</td>\n",
       "    </tr>\n",
       "    <tr>\n",
       "      <th>3</th>\n",
       "      <td>https://www.amazon.in/Milton-Thermosteel-Flask...</td>\n",
       "      <td>B00NIWHQVI</td>\n",
       "      <td>Home &amp; kitchen</td>\n",
       "    </tr>\n",
       "    <tr>\n",
       "      <th>4</th>\n",
       "      <td>https://www.amazon.in/Faber-Castell-Connector-...</td>\n",
       "      <td>B00LY28D3O</td>\n",
       "      <td>Home &amp; kitchen</td>\n",
       "    </tr>\n",
       "  </tbody>\n",
       "</table>\n",
       "</div>"
      ],
      "text/plain": [
       "                                                 url  product_id  \\\n",
       "0  https://www.amazon.in/Crystal-Stove-Lighter-St...  B00INQOQ3U   \n",
       "1  https://www.amazon.in/NaturePac-Garbage-Biodeg...  B07JFYBYK2   \n",
       "2  https://www.amazon.in/Multipurpose-Portable-El...  B07VQGVL68   \n",
       "3  https://www.amazon.in/Milton-Thermosteel-Flask...  B00NIWHQVI   \n",
       "4  https://www.amazon.in/Faber-Castell-Connector-...  B00LY28D3O   \n",
       "\n",
       "         category  \n",
       "0  Home & kitchen  \n",
       "1  Home & kitchen  \n",
       "2  Home & kitchen  \n",
       "3  Home & kitchen  \n",
       "4  Home & kitchen  "
      ]
     },
     "execution_count": 10,
     "metadata": {},
     "output_type": "execute_result"
    }
   ],
   "source": [
    "data = pd.read_csv(product_category_output)\n",
    "data.head()\n"
   ]
  },
  {
   "cell_type": "code",
   "execution_count": 11,
   "metadata": {},
   "outputs": [
    {
     "name": "stdout",
     "output_type": "stream",
     "text": [
      "https://www.amazon.in/Crystal-Stove-Lighter-Stainless-Aristo/dp/B00INQOQ3U/ref=zg_bs_kitchen_33/257-3591443-0734469?_encoding=UTF8&psc=1&refRID=MH11JJZWTVBV4ZRQWPTN Crystal - LI002 Gas Stove Lighter, Stainless Steel Aristo ₹ 200.00 1598402080.644908\n",
      "https://www.amazon.in/Crystal-Stove-Lighter-Stainless-Aristo/dp/B00INQOQ3U/ref=zg_bs_kitchen_33/257-3591443-0734469?_encoding=UTF8&psc=1&refRID=MH11JJZWTVBV4ZRQWPTN Crystal - LI002 Gas Stove Lighter, Stainless Steel Aristo ₹ 200.00 1598402090.121019\n",
      "https://www.amazon.in/NaturePac-Garbage-Biodegradable-Kitchen-48cmx56cm/dp/B07JFYBYK2/ref=zg_bs_kitchen_43/257-3591443-0734469?_encoding=UTF8&psc=1&refRID=MH11JJZWTVBV4ZRQWPTN PRAKRUTIK Garbage Bags Biodegradable For Kitchen,Office,Medium Size (48cmX56cm/(19 Inchx22 Inch),90 Bags).(Black) ₹ 279.00 1598402098.654762\n",
      "https://www.amazon.in/Multipurpose-Portable-Electronic-Digital-Weighing/dp/B07VQGVL68/ref=zg_bs_kitchen_14/257-3591443-0734469?_encoding=UTF8&psc=1&refRID=MH11JJZWTVBV4ZRQWPTN Glun Multipurpose Portable Electronic Digital Weighing Scale Weight Machine (10 Kg - with Back Light) ₹ 399.00 1598402106.906301\n",
      "https://www.amazon.in/Milton-Thermosteel-Flask-milliliters-Silver/dp/B00NIWHQVI/ref=zg_bs_kitchen_2/257-3591443-0734469?_encoding=UTF8&psc=1&refRID=MH11JJZWTVBV4ZRQWPTN Milton Thermosteel Flip Lid Flask, 500 milliliters, Silver ₹ 518.00 1598402116.69658\n",
      "https://www.amazon.in/Faber-Castell-Connector-Pen-Set-Assorted/dp/B00LY28D3O/ref=zg_bs_kitchen_30/257-3591443-0734469?_encoding=UTF8&psc=1&refRID=MH11JJZWTVBV4ZRQWPTN Faber-Castell Connector Pen Set - Pack of 15 (Assorted) ₹ 51.00 1598402127.850078\n",
      "https://www.amazon.in/HUL-Pureit-Germkill-Classic-Purifier/dp/B00H3H03Q4/ref=zg_bs_kitchen_38/257-3591443-0734469?_encoding=UTF8&psc=1&refRID=MH11JJZWTVBV4ZRQWPTN HUL Pureit Germkill kit for Classic 23 L water purifier - 3000 L ₹ 950.00 1598402137.69494\n",
      "https://www.amazon.in/Shalimar-Premium-OXO-Biodegradable-Garbage/dp/B07TCBTG17/ref=zg_bs_kitchen_6/257-3591443-0734469?_encoding=UTF8&psc=1&refRID=MH11JJZWTVBV4ZRQWPTN Shalimar Premium OXO - Biodegradable Garbage Bags (Large) Size 60 cm x 81 cm (15 Bags) (Black Colour) ₹ 74.00 1598402148.213588\n",
      "https://www.amazon.in/Kitchenette-Baking-Cooking-Parchment-Paper/dp/B07TFKLXV4/ref=zg_bs_kitchen_35/257-3591443-0734469?_encoding=UTF8&psc=1&refRID=MH11JJZWTVBV4ZRQWPTN Kitchenette Baking and Cooking || Parchment Paper || Food Grade || Non Stick || Fat Free Cooking || 20 Meters X 11 inch ₹ 161.00 1598402157.421616\n",
      "https://www.amazon.in/Ajanta-Quartz-Clock-Ivory-Golden/dp/B01GTX6I3E/ref=zg_bs_kitchen_19/257-3591443-0734469?_encoding=UTF8&psc=1&refRID=MH11JJZWTVBV4ZRQWPTN Ajanta Quartz Wall Clock (32 cm x 32 cm x 32 cm, Gold) ₹ 409.00 1598402167.912408\n",
      "https://www.amazon.in/Ajanta-Quartz-Office-Clock-AQ-2147/dp/B00PXJWJJI/ref=zg_bs_kitchen_17/257-3591443-0734469?_encoding=UTF8&psc=1&refRID=MH11JJZWTVBV4ZRQWPTN Ajanta Quartz Office Clock (AQ-2147) ₹ 170.00 1598402186.728204\n",
      "https://www.amazon.in/Decals-Design-Birds-Cages-Sticker/dp/B00OPYMYI8/ref=zg_bs_kitchen_48/257-3591443-0734469?_encoding=UTF8&psc=1&refRID=MH11JJZWTVBV4ZRQWPTN Decals Design StickersKart Wall Stickers Tree with Birds and Cages (Brown) ₹ 149.00 1598402197.098895\n",
      "https://www.amazon.in/Usha-EI-1602-1000-Watt-Lightweight/dp/B008YW3CYM/ref=zg_bs_kitchen_36/257-3591443-0734469?_encoding=UTF8&psc=1&refRID=MH11JJZWTVBV4ZRQWPTN Usha EI 1602 1000-Watt Lightweight Dry Iron (multi-colour) ₹ 557.00 1598402214.450499\n",
      "https://www.amazon.in/NOVEL-Power-free-Blender-Operation-Multicolour/dp/B07R8Z7WDV/ref=zg_bs_kitchen_46/257-3591443-0734469?_encoding=UTF8&psc=1&refRID=MH11JJZWTVBV4ZRQWPTN NOVEL Power free Hand Blender & Beater in kitchen appliances with high speed operation in Multi colors (Egg & Cream Beater, Milkshake, Soup, Lassi, Butter Milk Maker), milk shaker, hand blender( 01 pieces ) ₹ 195.00 1598402223.05338\n",
      "https://www.amazon.in/Health-Sense-Chef-Mate-Digital-Scale-KS33/dp/B013B2WGT6/ref=zg_bs_kitchen_29/257-3591443-0734469?_encoding=UTF8&psc=1&refRID=MH11JJZWTVBV4ZRQWPTN HealthSense Chef-Mate KS 33 Digital Kitchen Weighing Scale & Food Weight Machine for Health, Fitness, Home Baking & Cooking with Free Bowl, 1 Year Warranty & Batteries Included ₹ 1,099.00 1598402253.704306\n",
      "https://www.amazon.in/Ganesh-Vegetable-Dicer-Cutting-Blades/dp/B01BVDS1BE/ref=zg_bs_kitchen_10/257-3591443-0734469?_encoding=UTF8&psc=1&refRID=MH11JJZWTVBV4ZRQWPTN Ganesh Multipurpose Vegetable and Fruit Chopper Cutter Grater Slicer ₹ 449.00 1598402277.453611\n",
      "https://www.amazon.in/Tosaa-Non-Stick-Cavity-Appam-Patra/dp/B00MUHYDJA/ref=zg_bs_kitchen_24/257-3591443-0734469?_encoding=UTF8&psc=1&refRID=MH11JJZWTVBV4ZRQWPTN Tosaa Non-Stick 12 Cavity Appam Patra, 21cm ₹ 333.00 1598402285.95068\n",
      "https://www.amazon.in/Ahmedabad-Cotton-Double-Bedsheet-Pillow/dp/B07CN7NJQS/ref=zg_bs_kitchen_39/257-3591443-0734469?_encoding=UTF8&psc=1&refRID=MH11JJZWTVBV4ZRQWPTN HUESLAND by Ahmedabad Cotton 144 TC 100% Cotton Double Bedsheet with 2 Pillow Covers - Yellow, Grey ₹ 599.00 1598402295.736897\n",
      "https://www.amazon.in/Bulfyss-Combo-Pack-Decorating-Sugarcraft/dp/B01B2IRQ32/ref=zg_bs_kitchen_18/257-3591443-0734469?_encoding=UTF8&psc=1&refRID=MH11JJZWTVBV4ZRQWPTN Bulfyss Cake Turntable Revolving Cake Decorating Stand Cake Stand Sugarcraft 28cm India ₹ 499.00 1598402340.169852\n",
      "https://www.amazon.in/Amazon-Brand-Solimo-Revolving-pieces/dp/B07PCD6GC6/ref=zg_bs_kitchen_49/257-3591443-0734469?_encoding=UTF8&psc=1&refRID=MH11JJZWTVBV4ZRQWPTN None None 1598402360.707312\n",
      "https://www.amazon.in/PESCA-Battery-Operated-Christmas-Wedding/dp/B08FBDXXM3/ref=zg_bs_kitchen_41/257-3591443-0734469?_encoding=UTF8&psc=1&refRID=MH11JJZWTVBV4ZRQWPTN PESCA 20 LED Wine Bottle Cork Lights Copper Wire String Lights, 2M Battery Operated Wine Bottle Fairy Lights Bottle DIY, Christmas, Wedding Party (Warm White, 1 Unit) ₹ 220.00 1598402378.047388\n"
     ]
    },
    {
     "data": {
      "text/plain": [
       "(20, 7)"
      ]
     },
     "execution_count": 11,
     "metadata": {},
     "output_type": "execute_result"
    }
   ],
   "source": [
    "data_temp = data.iloc[:20,:].copy() #data is shortened for ease of time\n",
    "data_temp = data_temp.apply(df_row_scrape, axis=1)\n",
    "data_temp.shape #some fields maybe None ;loading issues may occur in the backend so grabbing is not properly done "
   ]
  },
  {
   "cell_type": "code",
   "execution_count": 12,
   "metadata": {},
   "outputs": [
    {
     "data": {
      "text/html": [
       "<div>\n",
       "<style scoped>\n",
       "    .dataframe tbody tr th:only-of-type {\n",
       "        vertical-align: middle;\n",
       "    }\n",
       "\n",
       "    .dataframe tbody tr th {\n",
       "        vertical-align: top;\n",
       "    }\n",
       "\n",
       "    .dataframe thead th {\n",
       "        text-align: right;\n",
       "    }\n",
       "</style>\n",
       "<table border=\"1\" class=\"dataframe\">\n",
       "  <thead>\n",
       "    <tr style=\"text-align: right;\">\n",
       "      <th></th>\n",
       "      <th>url</th>\n",
       "      <th>product_id</th>\n",
       "      <th>category</th>\n",
       "      <th>title</th>\n",
       "      <th>price</th>\n",
       "      <th>scraping_done</th>\n",
       "      <th>timestamp</th>\n",
       "    </tr>\n",
       "  </thead>\n",
       "  <tbody>\n",
       "    <tr>\n",
       "      <th>0</th>\n",
       "      <td>https://www.amazon.in/Crystal-Stove-Lighter-St...</td>\n",
       "      <td>B00INQOQ3U</td>\n",
       "      <td>Home &amp; kitchen</td>\n",
       "      <td>Crystal - LI002 Gas Stove Lighter, Stainless S...</td>\n",
       "      <td>₹ 200.00</td>\n",
       "      <td>1</td>\n",
       "      <td>1.598402e+09</td>\n",
       "    </tr>\n",
       "    <tr>\n",
       "      <th>1</th>\n",
       "      <td>https://www.amazon.in/NaturePac-Garbage-Biodeg...</td>\n",
       "      <td>B07JFYBYK2</td>\n",
       "      <td>Home &amp; kitchen</td>\n",
       "      <td>PRAKRUTIK Garbage Bags Biodegradable For Kitch...</td>\n",
       "      <td>₹ 279.00</td>\n",
       "      <td>1</td>\n",
       "      <td>1.598402e+09</td>\n",
       "    </tr>\n",
       "    <tr>\n",
       "      <th>2</th>\n",
       "      <td>https://www.amazon.in/Multipurpose-Portable-El...</td>\n",
       "      <td>B07VQGVL68</td>\n",
       "      <td>Home &amp; kitchen</td>\n",
       "      <td>Glun Multipurpose Portable Electronic Digital ...</td>\n",
       "      <td>₹ 399.00</td>\n",
       "      <td>1</td>\n",
       "      <td>1.598402e+09</td>\n",
       "    </tr>\n",
       "    <tr>\n",
       "      <th>3</th>\n",
       "      <td>https://www.amazon.in/Milton-Thermosteel-Flask...</td>\n",
       "      <td>B00NIWHQVI</td>\n",
       "      <td>Home &amp; kitchen</td>\n",
       "      <td>Milton Thermosteel Flip Lid Flask, 500 millili...</td>\n",
       "      <td>₹ 518.00</td>\n",
       "      <td>1</td>\n",
       "      <td>1.598402e+09</td>\n",
       "    </tr>\n",
       "    <tr>\n",
       "      <th>4</th>\n",
       "      <td>https://www.amazon.in/Faber-Castell-Connector-...</td>\n",
       "      <td>B00LY28D3O</td>\n",
       "      <td>Home &amp; kitchen</td>\n",
       "      <td>Faber-Castell Connector Pen Set - Pack of 15 (...</td>\n",
       "      <td>₹ 51.00</td>\n",
       "      <td>1</td>\n",
       "      <td>1.598402e+09</td>\n",
       "    </tr>\n",
       "  </tbody>\n",
       "</table>\n",
       "</div>"
      ],
      "text/plain": [
       "                                                 url  product_id  \\\n",
       "0  https://www.amazon.in/Crystal-Stove-Lighter-St...  B00INQOQ3U   \n",
       "1  https://www.amazon.in/NaturePac-Garbage-Biodeg...  B07JFYBYK2   \n",
       "2  https://www.amazon.in/Multipurpose-Portable-El...  B07VQGVL68   \n",
       "3  https://www.amazon.in/Milton-Thermosteel-Flask...  B00NIWHQVI   \n",
       "4  https://www.amazon.in/Faber-Castell-Connector-...  B00LY28D3O   \n",
       "\n",
       "         category                                              title  \\\n",
       "0  Home & kitchen  Crystal - LI002 Gas Stove Lighter, Stainless S...   \n",
       "1  Home & kitchen  PRAKRUTIK Garbage Bags Biodegradable For Kitch...   \n",
       "2  Home & kitchen  Glun Multipurpose Portable Electronic Digital ...   \n",
       "3  Home & kitchen  Milton Thermosteel Flip Lid Flask, 500 millili...   \n",
       "4  Home & kitchen  Faber-Castell Connector Pen Set - Pack of 15 (...   \n",
       "\n",
       "      price  scraping_done     timestamp  \n",
       "0  ₹ 200.00              1  1.598402e+09  \n",
       "1  ₹ 279.00              1  1.598402e+09  \n",
       "2  ₹ 399.00              1  1.598402e+09  \n",
       "3  ₹ 518.00              1  1.598402e+09  \n",
       "4   ₹ 51.00              1  1.598402e+09  "
      ]
     },
     "execution_count": 12,
     "metadata": {},
     "output_type": "execute_result"
    }
   ],
   "source": [
    "data_temp.head()"
   ]
  },
  {
   "cell_type": "code",
   "execution_count": 14,
   "metadata": {},
   "outputs": [],
   "source": [
    "data_temp.to_csv(\"data/result.csv\",index=False)"
   ]
  },
  {
   "cell_type": "code",
   "execution_count": null,
   "metadata": {},
   "outputs": [],
   "source": []
  }
 ],
 "metadata": {
  "kernelspec": {
   "display_name": "Python 3",
   "language": "python",
   "name": "python3"
  },
  "language_info": {
   "codemirror_mode": {
    "name": "ipython",
    "version": 3
   },
   "file_extension": ".py",
   "mimetype": "text/x-python",
   "name": "python",
   "nbconvert_exporter": "python",
   "pygments_lexer": "ipython3",
   "version": "3.8.3"
  }
 },
 "nbformat": 4,
 "nbformat_minor": 4
}
