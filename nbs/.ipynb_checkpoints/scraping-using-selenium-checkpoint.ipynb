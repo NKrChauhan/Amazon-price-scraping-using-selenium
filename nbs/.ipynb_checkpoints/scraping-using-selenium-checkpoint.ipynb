{
 "cells": [
  {
   "cell_type": "code",
   "execution_count": 1,
   "metadata": {},
   "outputs": [],
   "source": [
    "import os\n",
    "import re\n",
    "import pathlib\n",
    "import requests\n",
    "import time\n",
    "import datetime\n",
    "import pandas as pd\n",
    "from requests_html import HTML\n",
    "from pathlib import Path\n",
    "from selenium import webdriver\n",
    "from selenium.webdriver.firefox.options import Options #open browser driver without the actual opening of browser"
   ]
  },
  {
   "cell_type": "code",
   "execution_count": 2,
   "metadata": {},
   "outputs": [],
   "source": [
    "#using pathlib instead of os library\n",
    "BASE_DIR = Path.cwd()\n",
    "DATA_DIR = BASE_DIR / \"data\" # os.path.join(BASE_DIR, 'data')\n",
    "if not DATA_DIR.exists(): # os.path.exists(DATA_DIR)\n",
    "    DATA_DIR.mkdir(exist_ok=True) # os.makedirs(DATA_DIR, exist_ok=True)\n",
    "    \n",
    "product_category_output = DATA_DIR / \"category-products.csv\"\n",
    "product_output = DATA_DIR / \"products.csv\""
   ]
  },
  {
   "cell_type": "code",
   "execution_count": 3,
   "metadata": {},
   "outputs": [],
   "source": [
    "options = Options()\n",
    "options.add_argument(\"--headless\")\n",
    "driver = webdriver.Firefox(options=options)"
   ]
  },
  {
   "cell_type": "code",
   "execution_count": 4,
   "metadata": {},
   "outputs": [],
   "source": [
    "# referance  https://www.amazon.in/Kaspersky-Security-Latest-Version-Delivery/dp/B073VKKNN9\n",
    "\n",
    "categories = [\n",
    "    {\"category\": \"Home & kitchen\", \"url\": \"https://www.amazon.in/gp/bestsellers/kitchen/\"},\n",
    "    {\"category\": \"cars and motorbike\", \"url\": \"https://www.amazon.in/gp/bestsellers/automotive/\"},\n",
    "    {\"category\": \"software\", \"url\": \"https://www.amazon.in/gp/bestsellers/software/\"}\n",
    "]\n",
    "regex = [\n",
    "    r\"https://www.amazon.in/(?P<data>[\\w-]+)/dp/(?P<id>[\\w-]+)/\" #this is quite used at the time \n",
    "]\n",
    "# other_amazon_url_naming_scheme_referances = [ \n",
    "#     r\"https://www.amazon.in/gp/product/(?P<id>[\\w-]+)/\",\n",
    "#     r\"https://www.amazon.in/dp/(?P<id>[\\w-]+)/\", ]"
   ]
  },
  {
   "cell_type": "code",
   "execution_count": 5,
   "metadata": {},
   "outputs": [],
   "source": [
    "# from this \"https://www.amazon.in/Kaspersky-Security-Latest-Version-Delivery/dp/B073VKKNN9\" -> id=B073VKKNN9\n",
    "def extract_id_from_url(url,regex=regex):\n",
    "    product_id = None\n",
    "    for regex_str in regex:\n",
    "        regex = re.compile(regex_str)\n",
    "        match = regex.match(url)\n",
    "        if match != None:\n",
    "            try:\n",
    "                product_id = match['id']\n",
    "            except:\n",
    "                pass\n",
    "    return product_id\n"
   ]
  },
  {
   "cell_type": "code",
   "execution_count": 6,
   "metadata": {},
   "outputs": [],
   "source": [
    "# extracting the links to the products not other links like review are filtered out using product_id on each page\n",
    "def clean_links(page_links=[], category=None):\n",
    "    final_page_links = []\n",
    "    for url in page_links:\n",
    "        product_id = extract_id_from_url(url)\n",
    "        if product_id != None:\n",
    "            final_page_links.append({\"url\": url, \"product_id\": product_id, \"category\": category['category']})\n",
    "    return final_page_links\n",
    "\n",
    "# parse each link in category section and return the all product links\n",
    "def scrape_and_generate(categories=None,save=False):\n",
    "    all_links = []\n",
    "    for category in categories:\n",
    "        time.sleep(3.0)\n",
    "        url = category.get(\"url\") #from dict\n",
    "        driver.get(url)\n",
    "        body_element = driver.find_element_by_css_selector(\"body\")\n",
    "        html = body_element.get_attribute(\"innerHTML\")\n",
    "        html_obj = HTML(html=html)\n",
    "        page_links = [f\"https://www.amazon.in{x}\" for x in html_obj.links if x.startswith(\"/\")] #convention followed in amazon site\n",
    "        cleaned_links = clean_links(page_links=page_links, category=category)\n",
    "        all_links += cleaned_links\n",
    "        if save==True:\n",
    "            category_df = pd.DataFrame(all_links)\n",
    "            category_df.to_csv(product_category_output, index=False)\n",
    "    return all_links"
   ]
  },
  {
   "cell_type": "code",
   "execution_count": 7,
   "metadata": {},
   "outputs": [],
   "source": [
    "# scrape the actual product pages that are short listed from so many links \n",
    "def scrape_product(url):\n",
    "    title = \"#productTitle\"\n",
    "    price = \"#priceblock_ourprice\"\n",
    "#     message = \"#upsell-message\"\n",
    "    driver.get(url)\n",
    "    time.sleep(5.0)\n",
    "    body_element = driver.find_element_by_css_selector(\"body\")\n",
    "    html = body_element.get_attribute(\"innerHTML\")\n",
    "    html_obj = HTML(html=html)\n",
    "    product_title = html_obj.find(title, first=True).text\n",
    "    product_price = html_obj.find(price, first=True).text\n",
    "#     product_message = html_obj.find(message, first=True).text\n",
    "    return product_title, product_price #, product_message\n"
   ]
  },
  {
   "cell_type": "code",
   "execution_count": 8,
   "metadata": {},
   "outputs": [],
   "source": [
    "#apply to each row of dataframe\n",
    "def df_row_scrape(row):\n",
    "    link = row['url']\n",
    "    done = 0\n",
    "    try:\n",
    "        done = row['scraping_done']\n",
    "    except:\n",
    "        pass\n",
    "    if done == 1 or done == \"1\":\n",
    "        print(\"skipped\")\n",
    "        return row\n",
    "    product_id = row['product_id']\n",
    "    title, price = (None, None)\n",
    "    try:\n",
    "        title, price = scrape_product(link)\n",
    "    except:\n",
    "        pass\n",
    "    row['title'] = title\n",
    "    row['price'] = price\n",
    "#     row['message'] = message\n",
    "    row['scraping_done'] = 1\n",
    "    row['timestamp'] = datetime.datetime.now().timestamp()\n",
    "    print(link, title, price, datetime.datetime.now().timestamp())\n",
    "    return row"
   ]
  },
  {
   "cell_type": "markdown",
   "metadata": {},
   "source": [
    "## Now lets run"
   ]
  },
  {
   "cell_type": "code",
   "execution_count": 9,
   "metadata": {},
   "outputs": [],
   "source": [
    "d = scrape_and_generate(categories,save=True)"
   ]
  },
  {
   "cell_type": "code",
   "execution_count": 10,
   "metadata": {},
   "outputs": [
    {
     "data": {
      "text/html": [
       "<div>\n",
       "<style scoped>\n",
       "    .dataframe tbody tr th:only-of-type {\n",
       "        vertical-align: middle;\n",
       "    }\n",
       "\n",
       "    .dataframe tbody tr th {\n",
       "        vertical-align: top;\n",
       "    }\n",
       "\n",
       "    .dataframe thead th {\n",
       "        text-align: right;\n",
       "    }\n",
       "</style>\n",
       "<table border=\"1\" class=\"dataframe\">\n",
       "  <thead>\n",
       "    <tr style=\"text-align: right;\">\n",
       "      <th></th>\n",
       "      <th>url</th>\n",
       "      <th>product_id</th>\n",
       "      <th>category</th>\n",
       "    </tr>\n",
       "  </thead>\n",
       "  <tbody>\n",
       "    <tr>\n",
       "      <th>0</th>\n",
       "      <td>https://www.amazon.in/Amazon-Brand-Solimo-Vege...</td>\n",
       "      <td>B07FFG653K</td>\n",
       "      <td>Home &amp; kitchen</td>\n",
       "    </tr>\n",
       "    <tr>\n",
       "      <th>1</th>\n",
       "      <td>https://www.amazon.in/Ahmedabad-Cotton-Double-...</td>\n",
       "      <td>B07CN7NJQS</td>\n",
       "      <td>Home &amp; kitchen</td>\n",
       "    </tr>\n",
       "    <tr>\n",
       "      <th>2</th>\n",
       "      <td>https://www.amazon.in/Raawan-Durable-Plastic-O...</td>\n",
       "      <td>B0851SZWQS</td>\n",
       "      <td>Home &amp; kitchen</td>\n",
       "    </tr>\n",
       "    <tr>\n",
       "      <th>3</th>\n",
       "      <td>https://www.amazon.in/Usha-EI-1602-1000-Watt-L...</td>\n",
       "      <td>B008YW3CYM</td>\n",
       "      <td>Home &amp; kitchen</td>\n",
       "    </tr>\n",
       "    <tr>\n",
       "      <th>4</th>\n",
       "      <td>https://www.amazon.in/Pigeon-Stovekraft-Handy-...</td>\n",
       "      <td>B07X2RGYYL</td>\n",
       "      <td>Home &amp; kitchen</td>\n",
       "    </tr>\n",
       "  </tbody>\n",
       "</table>\n",
       "</div>"
      ],
      "text/plain": [
       "                                                 url  product_id  \\\n",
       "0  https://www.amazon.in/Amazon-Brand-Solimo-Vege...  B07FFG653K   \n",
       "1  https://www.amazon.in/Ahmedabad-Cotton-Double-...  B07CN7NJQS   \n",
       "2  https://www.amazon.in/Raawan-Durable-Plastic-O...  B0851SZWQS   \n",
       "3  https://www.amazon.in/Usha-EI-1602-1000-Watt-L...  B008YW3CYM   \n",
       "4  https://www.amazon.in/Pigeon-Stovekraft-Handy-...  B07X2RGYYL   \n",
       "\n",
       "         category  \n",
       "0  Home & kitchen  \n",
       "1  Home & kitchen  \n",
       "2  Home & kitchen  \n",
       "3  Home & kitchen  \n",
       "4  Home & kitchen  "
      ]
     },
     "execution_count": 10,
     "metadata": {},
     "output_type": "execute_result"
    }
   ],
   "source": [
    "data = pd.read_csv(product_category_output)\n",
    "data.head()\n"
   ]
  },
  {
   "cell_type": "code",
   "execution_count": null,
   "metadata": {},
   "outputs": [
    {
     "name": "stdout",
     "output_type": "stream",
     "text": [
      "https://www.amazon.in/Amazon-Brand-Solimo-Vegetable-Chopper/dp/B07FFG653K/ref=zg_bs_kitchen_18/259-6753901-6196639?_encoding=UTF8&psc=1&refRID=751EEY1A6SE5C7205BJD Amazon Brand - Solimo 500 ml Large Vegetable Chopper with 3 Blades, Green ₹ 259.00 1598488095.050859\n",
      "https://www.amazon.in/Amazon-Brand-Solimo-Vegetable-Chopper/dp/B07FFG653K/ref=zg_bs_kitchen_18/259-6753901-6196639?_encoding=UTF8&psc=1&refRID=751EEY1A6SE5C7205BJD Amazon Brand - Solimo 500 ml Large Vegetable Chopper with 3 Blades, Green ₹ 259.00 1598488102.390144\n",
      "https://www.amazon.in/Ahmedabad-Cotton-Double-Bedsheet-Pillow/dp/B07CN7NJQS/ref=zg_bs_kitchen_27/259-6753901-6196639?_encoding=UTF8&psc=1&refRID=751EEY1A6SE5C7205BJD HUESLAND by Ahmedabad Cotton 144 TC 100% Cotton Double Bedsheet with 2 Pillow Covers - Yellow, Grey ₹ 599.00 1598488118.047068\n"
     ]
    }
   ],
   "source": [
    "data_temp = data.iloc[:20,:].copy() #data is shortened for ease of time\n",
    "data_temp = data_temp.apply(df_row_scrape, axis=1)\n",
    "data_temp.shape #some fields maybe None ;loading issues may occur in the backend so grabbing is not properly done "
   ]
  },
  {
   "cell_type": "code",
   "execution_count": null,
   "metadata": {},
   "outputs": [],
   "source": [
    "data_temp.head()"
   ]
  },
  {
   "cell_type": "code",
   "execution_count": null,
   "metadata": {},
   "outputs": [],
   "source": [
    "data_temp.to_csv(\"data/result.csv\",index=False)"
   ]
  },
  {
   "cell_type": "code",
   "execution_count": null,
   "metadata": {},
   "outputs": [],
   "source": []
  }
 ],
 "metadata": {
  "kernelspec": {
   "display_name": "Python 3",
   "language": "python",
   "name": "python3"
  },
  "language_info": {
   "codemirror_mode": {
    "name": "ipython",
    "version": 3
   },
   "file_extension": ".py",
   "mimetype": "text/x-python",
   "name": "python",
   "nbconvert_exporter": "python",
   "pygments_lexer": "ipython3",
   "version": "3.8.3"
  }
 },
 "nbformat": 4,
 "nbformat_minor": 4
}
